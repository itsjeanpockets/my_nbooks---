{
 "cells": [
  {
   "cell_type": "code",
   "execution_count": 2,
   "id": "8e94fded",
   "metadata": {},
   "outputs": [],
   "source": [
    "import pandas as pd\n",
    "import seaborn as sns"
   ]
  },
  {
   "cell_type": "code",
   "execution_count": 3,
   "id": "0280b20d",
   "metadata": {},
   "outputs": [],
   "source": [
    "df = pd.read_csv('avocado.csv')"
   ]
  },
  {
   "cell_type": "code",
   "execution_count": 4,
   "id": "32d61f10",
   "metadata": {},
   "outputs": [
    {
     "name": "stdout",
     "output_type": "stream",
     "text": [
      "   Unnamed: 0        Date  AveragePrice  Total Volume     4046       4225  \\\n",
      "0           0  2015-12-27          1.33      64236.62  1036.74   54454.85   \n",
      "1           1  2015-12-20          1.35      54876.98   674.28   44638.81   \n",
      "2           2  2015-12-13          0.93     118220.22   794.70  109149.67   \n",
      "3           3  2015-12-06          1.08      78992.15  1132.00   71976.41   \n",
      "4           4  2015-11-29          1.28      51039.60   941.48   43838.39   \n",
      "\n",
      "     4770  Total Bags  Small Bags  Large Bags  XLarge Bags          type  \\\n",
      "0   48.16     8696.87     8603.62       93.25          0.0  conventional   \n",
      "1   58.33     9505.56     9408.07       97.49          0.0  conventional   \n",
      "2  130.50     8145.35     8042.21      103.14          0.0  conventional   \n",
      "3   72.58     5811.16     5677.40      133.76          0.0  conventional   \n",
      "4   75.78     6183.95     5986.26      197.69          0.0  conventional   \n",
      "\n",
      "   year  region  \n",
      "0  2015  Albany  \n",
      "1  2015  Albany  \n",
      "2  2015  Albany  \n",
      "3  2015  Albany  \n",
      "4  2015  Albany  \n"
     ]
    }
   ],
   "source": [
    "print(df.head())"
   ]
  },
  {
   "cell_type": "code",
   "execution_count": 5,
   "id": "28f4046c",
   "metadata": {},
   "outputs": [
    {
     "name": "stdout",
     "output_type": "stream",
     "text": [
      "<class 'pandas.core.frame.DataFrame'>\n",
      "RangeIndex: 18249 entries, 0 to 18248\n",
      "Data columns (total 14 columns):\n",
      " #   Column        Non-Null Count  Dtype  \n",
      "---  ------        --------------  -----  \n",
      " 0   Unnamed: 0    18249 non-null  int64  \n",
      " 1   Date          18249 non-null  object \n",
      " 2   AveragePrice  18249 non-null  float64\n",
      " 3   Total Volume  18249 non-null  float64\n",
      " 4   4046          18249 non-null  float64\n",
      " 5   4225          18249 non-null  float64\n",
      " 6   4770          18249 non-null  float64\n",
      " 7   Total Bags    18249 non-null  float64\n",
      " 8   Small Bags    18249 non-null  float64\n",
      " 9   Large Bags    18249 non-null  float64\n",
      " 10  XLarge Bags   18249 non-null  float64\n",
      " 11  type          18249 non-null  object \n",
      " 12  year          18249 non-null  int64  \n",
      " 13  region        18249 non-null  object \n",
      "dtypes: float64(9), int64(2), object(3)\n",
      "memory usage: 1.9+ MB\n",
      "None\n"
     ]
    }
   ],
   "source": [
    "print(df.info())"
   ]
  },
  {
   "cell_type": "code",
   "execution_count": 6,
   "id": "86963d83",
   "metadata": {},
   "outputs": [],
   "source": [
    "df['Date'] = pd.to_datetime(df['Date'])"
   ]
  },
  {
   "cell_type": "code",
   "execution_count": 7,
   "id": "0dae905d",
   "metadata": {},
   "outputs": [
    {
     "name": "stdout",
     "output_type": "stream",
     "text": [
      "<class 'pandas.core.frame.DataFrame'>\n",
      "RangeIndex: 18249 entries, 0 to 18248\n",
      "Data columns (total 14 columns):\n",
      " #   Column        Non-Null Count  Dtype         \n",
      "---  ------        --------------  -----         \n",
      " 0   Unnamed: 0    18249 non-null  int64         \n",
      " 1   Date          18249 non-null  datetime64[ns]\n",
      " 2   AveragePrice  18249 non-null  float64       \n",
      " 3   Total Volume  18249 non-null  float64       \n",
      " 4   4046          18249 non-null  float64       \n",
      " 5   4225          18249 non-null  float64       \n",
      " 6   4770          18249 non-null  float64       \n",
      " 7   Total Bags    18249 non-null  float64       \n",
      " 8   Small Bags    18249 non-null  float64       \n",
      " 9   Large Bags    18249 non-null  float64       \n",
      " 10  XLarge Bags   18249 non-null  float64       \n",
      " 11  type          18249 non-null  object        \n",
      " 12  year          18249 non-null  int64         \n",
      " 13  region        18249 non-null  object        \n",
      "dtypes: datetime64[ns](1), float64(9), int64(2), object(2)\n",
      "memory usage: 1.9+ MB\n",
      "None\n"
     ]
    }
   ],
   "source": [
    "print(df.info())"
   ]
  },
  {
   "cell_type": "code",
   "execution_count": 9,
   "id": "16bf40af",
   "metadata": {},
   "outputs": [],
   "source": [
    "df_filtered = df.query(\"year == 2015 and type == 'conventional' and region == 'Albany'\")[['Date', 'Total Bags', 'Small Bags']]\n"
   ]
  },
  {
   "cell_type": "code",
   "execution_count": 10,
   "id": "f3547d8a",
   "metadata": {},
   "outputs": [
    {
     "name": "stdout",
     "output_type": "stream",
     "text": [
      "        Date  Total Bags  Small Bags\n",
      "0 2015-12-27     8696.87     8603.62\n",
      "1 2015-12-20     9505.56     9408.07\n",
      "2 2015-12-13     8145.35     8042.21\n",
      "3 2015-12-06     5811.16     5677.40\n",
      "4 2015-11-29     6183.95     5986.26\n"
     ]
    }
   ],
   "source": [
    "print(df_filtered.head())"
   ]
  },
  {
   "cell_type": "code",
   "execution_count": 11,
   "id": "53a9e2cd",
   "metadata": {},
   "outputs": [],
   "source": [
    "melted_df = pd.melt(df_filtered, id_vars=['Date'], value_vars=['Total Bags', 'Small Bags'], var_name='Bags', value_name='Count')"
   ]
  },
  {
   "cell_type": "code",
   "execution_count": 12,
   "id": "28c98c11",
   "metadata": {},
   "outputs": [
    {
     "name": "stdout",
     "output_type": "stream",
     "text": [
      "          Date        Bags     Count\n",
      "0   2015-12-27  Total Bags   8696.87\n",
      "1   2015-12-20  Total Bags   9505.56\n",
      "2   2015-12-13  Total Bags   8145.35\n",
      "3   2015-12-06  Total Bags   5811.16\n",
      "4   2015-11-29  Total Bags   6183.95\n",
      "..         ...         ...       ...\n",
      "99  2015-02-01  Small Bags   9170.82\n",
      "100 2015-01-25  Small Bags  10103.35\n",
      "101 2015-01-18  Small Bags  11651.09\n",
      "102 2015-01-11  Small Bags   8036.04\n",
      "103 2015-01-04  Small Bags   9186.93\n",
      "\n",
      "[104 rows x 3 columns]\n"
     ]
    }
   ],
   "source": [
    "print(melted_df)"
   ]
  },
  {
   "cell_type": "code",
   "execution_count": 16,
   "id": "290446c7",
   "metadata": {},
   "outputs": [
    {
     "data": {
      "text/plain": [
       "<AxesSubplot:xlabel='Date', ylabel='Count'>"
      ]
     },
     "execution_count": 16,
     "metadata": {},
     "output_type": "execute_result"
    },
    {
     "data": {
      "image/png": "[encoded data removed]",
      "text/plain": [
       "<Figure size 432x288 with 1 Axes>"
      ]
     },
     "metadata": {
      "needs_background": "light"
     },
     "output_type": "display_data"
    }
   ],
   "source": [
    "sns.lineplot(data=melted_df, x='Date', y='Count', hue='Bags')"
   ]
  },
  {
   "cell_type": "code",
   "execution_count": 17,
   "id": "f20ce2f7",
   "metadata": {},
   "outputs": [],
   "source": [
    "df['Sales Volume'] = pd.qcut(df['Total Volume'], q=4, labels=['Poor', 'Modest', 'Good', 'Excellent'])"
   ]
  },
  {
   "cell_type": "code",
   "execution_count": 18,
   "id": "2496c8bb",
   "metadata": {},
   "outputs": [
    {
     "name": "stdout",
     "output_type": "stream",
     "text": [
      "   Unnamed: 0       Date  AveragePrice  Total Volume     4046       4225  \\\n",
      "0           0 2015-12-27          1.33      64236.62  1036.74   54454.85   \n",
      "1           1 2015-12-20          1.35      54876.98   674.28   44638.81   \n",
      "2           2 2015-12-13          0.93     118220.22   794.70  109149.67   \n",
      "3           3 2015-12-06          1.08      78992.15  1132.00   71976.41   \n",
      "4           4 2015-11-29          1.28      51039.60   941.48   43838.39   \n",
      "\n",
      "     4770  Total Bags  Small Bags  Large Bags  XLarge Bags          type  \\\n",
      "0   48.16     8696.87     8603.62       93.25          0.0  conventional   \n",
      "1   58.33     9505.56     9408.07       97.49          0.0  conventional   \n",
      "2  130.50     8145.35     8042.21      103.14          0.0  conventional   \n",
      "3   72.58     5811.16     5677.40      133.76          0.0  conventional   \n",
      "4   75.78     6183.95     5986.26      197.69          0.0  conventional   \n",
      "\n",
      "   year  region Sales Volume  \n",
      "0  2015  Albany       Modest  \n",
      "1  2015  Albany       Modest  \n",
      "2  2015  Albany         Good  \n",
      "3  2015  Albany       Modest  \n",
      "4  2015  Albany       Modest  \n"
     ]
    }
   ],
   "source": [
    "print(df.head())"
   ]
  },
  {
   "cell_type": "code",
   "execution_count": 19,
   "id": "4d279093",
   "metadata": {},
   "outputs": [
    {
     "data": {
      "text/plain": [
       "<AxesSubplot:xlabel='year', ylabel='count'>"
      ]
     },
     "execution_count": 19,
     "metadata": {},
     "output_type": "execute_result"
    },
    {
     "data": {
      "image/png": "[encoded data removed]",
      "text/plain": [
       "<Figure size 432x288 with 1 Axes>"
      ]
     },
     "metadata": {
      "needs_background": "light"
     },
     "output_type": "display_data"
    }
   ],
   "source": [
    "sns.countplot(data=df, x='year', hue='Sales Volume')"
   ]
  },
  {
   "cell_type": "code",
   "execution_count": 20,
   "id": "d469d12d",
   "metadata": {},
   "outputs": [],
   "source": [
    "melted_df2 = pd.melt(df, id_vars=['year'], value_vars=['Small Bags', 'Large Bags', 'XLarge Bags'], var_name='Bags', value_name='Count')"
   ]
  },
  {
   "cell_type": "code",
   "execution_count": 21,
   "id": "7d8a6abe",
   "metadata": {},
   "outputs": [
    {
     "name": "stdout",
     "output_type": "stream",
     "text": [
      "       year         Bags    Count\n",
      "0      2015   Small Bags  8603.62\n",
      "1      2015   Small Bags  9408.07\n",
      "2      2015   Small Bags  8042.21\n",
      "3      2015   Small Bags  5677.40\n",
      "4      2015   Small Bags  5986.26\n",
      "...     ...          ...      ...\n",
      "54742  2018  XLarge Bags     0.00\n",
      "54743  2018  XLarge Bags     0.00\n",
      "54744  2018  XLarge Bags     0.00\n",
      "54745  2018  XLarge Bags     0.00\n",
      "54746  2018  XLarge Bags     0.00\n",
      "\n",
      "[54747 rows x 3 columns]\n"
     ]
    }
   ],
   "source": [
    "print(melted_df2)"
   ]
  },
  {
   "cell_type": "code",
   "execution_count": 22,
   "id": "50376831",
   "metadata": {},
   "outputs": [
    {
     "data": {
      "text/plain": [
       "<seaborn.axisgrid.FacetGrid at 0x2a0fbd41fa0>"
      ]
     },
     "execution_count": 22,
     "metadata": {},
     "output_type": "execute_result"
    },
    {
     "data": {
      "image/png": "[encoded data removed]",
      "text/plain": [
       "<Figure size 458.75x360 with 1 Axes>"
      ]
     },
     "metadata": {
      "needs_background": "light"
     },
     "output_type": "display_data"
    }
   ],
   "source": [
    "sns.relplot(data=melted_df2, kind='line', x='year', y='Count', hue='Bags')"
   ]
  },
  {
   "cell_type": "markdown",
   "id": "320cc0d5",
   "metadata": {},
   "source": [
    "## Small Bags"
   ]
  },
  {
   "cell_type": "code",
   "execution_count": null,
   "id": "5231d98f",
   "metadata": {},
   "outputs": [],
   "source": []
  }
 ],
 "metadata": {
  "kernelspec": {
   "display_name": "Python 3",
   "language": "python",
   "name": "python3"
  },
  "language_info": {
   "codemirror_mode": {
    "name": "ipython",
    "version": 3
   },
   "file_extension": ".py",
   "mimetype": "text/x-python",
   "name": "python",
   "nbconvert_exporter": "python",
   "pygments_lexer": "ipython3",
   "version": "3.8.8"
  }
 },
 "nbformat": 4,
 "nbformat_minor": 5
}
